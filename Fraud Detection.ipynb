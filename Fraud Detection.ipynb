{
 "cells": [
  {
   "cell_type": "code",
   "execution_count": 73,
   "id": "8d0bbe8c",
   "metadata": {
    "id": "8d0bbe8c"
   },
   "outputs": [],
   "source": [
    "import pandas as pd"
   ]
  },
  {
   "cell_type": "code",
   "execution_count": 74,
   "id": "6b82fa7e",
   "metadata": {
    "colab": {
     "base_uri": "https://localhost:8080/",
     "height": 522
    },
    "id": "6b82fa7e",
    "outputId": "9771af8d-7619-4f46-c20c-56d5099b0a80"
   },
   "outputs": [
    {
     "data": {
      "text/html": [
       "<div>\n",
       "<style scoped>\n",
       "    .dataframe tbody tr th:only-of-type {\n",
       "        vertical-align: middle;\n",
       "    }\n",
       "\n",
       "    .dataframe tbody tr th {\n",
       "        vertical-align: top;\n",
       "    }\n",
       "\n",
       "    .dataframe thead th {\n",
       "        text-align: right;\n",
       "    }\n",
       "</style>\n",
       "<table border=\"1\" class=\"dataframe\">\n",
       "  <thead>\n",
       "    <tr style=\"text-align: right;\">\n",
       "      <th></th>\n",
       "      <th>Merchant_id</th>\n",
       "      <th>Transaction date</th>\n",
       "      <th>Average Amount/transaction/day</th>\n",
       "      <th>Transaction_amount</th>\n",
       "      <th>Is declined</th>\n",
       "      <th>Total Number of declines/day</th>\n",
       "      <th>isForeignTransaction</th>\n",
       "      <th>isHighRiskCountry</th>\n",
       "      <th>Daily_chargeback_avg_amt</th>\n",
       "      <th>6_month_avg_chbk_amt</th>\n",
       "      <th>6-month_chbk_freq</th>\n",
       "      <th>isFradulent</th>\n",
       "    </tr>\n",
       "  </thead>\n",
       "  <tbody>\n",
       "    <tr>\n",
       "      <th>0</th>\n",
       "      <td>3160040998</td>\n",
       "      <td>NaN</td>\n",
       "      <td>100.000000</td>\n",
       "      <td>3000.000000</td>\n",
       "      <td>N</td>\n",
       "      <td>5</td>\n",
       "      <td>Y</td>\n",
       "      <td>Y</td>\n",
       "      <td>0</td>\n",
       "      <td>0.0</td>\n",
       "      <td>0</td>\n",
       "      <td>Y</td>\n",
       "    </tr>\n",
       "    <tr>\n",
       "      <th>1</th>\n",
       "      <td>3160040998</td>\n",
       "      <td>NaN</td>\n",
       "      <td>100.000000</td>\n",
       "      <td>4300.000000</td>\n",
       "      <td>N</td>\n",
       "      <td>5</td>\n",
       "      <td>Y</td>\n",
       "      <td>Y</td>\n",
       "      <td>0</td>\n",
       "      <td>0.0</td>\n",
       "      <td>0</td>\n",
       "      <td>Y</td>\n",
       "    </tr>\n",
       "    <tr>\n",
       "      <th>2</th>\n",
       "      <td>3160041896</td>\n",
       "      <td>NaN</td>\n",
       "      <td>185.500000</td>\n",
       "      <td>4823.000000</td>\n",
       "      <td>Y</td>\n",
       "      <td>5</td>\n",
       "      <td>N</td>\n",
       "      <td>N</td>\n",
       "      <td>0</td>\n",
       "      <td>0.0</td>\n",
       "      <td>0</td>\n",
       "      <td>Y</td>\n",
       "    </tr>\n",
       "    <tr>\n",
       "      <th>3</th>\n",
       "      <td>3160141996</td>\n",
       "      <td>NaN</td>\n",
       "      <td>185.500000</td>\n",
       "      <td>5008.500000</td>\n",
       "      <td>Y</td>\n",
       "      <td>8</td>\n",
       "      <td>N</td>\n",
       "      <td>N</td>\n",
       "      <td>0</td>\n",
       "      <td>0.0</td>\n",
       "      <td>0</td>\n",
       "      <td>Y</td>\n",
       "    </tr>\n",
       "    <tr>\n",
       "      <th>4</th>\n",
       "      <td>3160241992</td>\n",
       "      <td>NaN</td>\n",
       "      <td>500.000000</td>\n",
       "      <td>26000.000000</td>\n",
       "      <td>N</td>\n",
       "      <td>0</td>\n",
       "      <td>Y</td>\n",
       "      <td>Y</td>\n",
       "      <td>800</td>\n",
       "      <td>677.2</td>\n",
       "      <td>6</td>\n",
       "      <td>Y</td>\n",
       "    </tr>\n",
       "    <tr>\n",
       "      <th>...</th>\n",
       "      <td>...</td>\n",
       "      <td>...</td>\n",
       "      <td>...</td>\n",
       "      <td>...</td>\n",
       "      <td>...</td>\n",
       "      <td>...</td>\n",
       "      <td>...</td>\n",
       "      <td>...</td>\n",
       "      <td>...</td>\n",
       "      <td>...</td>\n",
       "      <td>...</td>\n",
       "      <td>...</td>\n",
       "    </tr>\n",
       "    <tr>\n",
       "      <th>95</th>\n",
       "      <td>4138506573</td>\n",
       "      <td>NaN</td>\n",
       "      <td>787.737961</td>\n",
       "      <td>32297.256390</td>\n",
       "      <td>N</td>\n",
       "      <td>3</td>\n",
       "      <td>Y</td>\n",
       "      <td>Y</td>\n",
       "      <td>0</td>\n",
       "      <td>0.0</td>\n",
       "      <td>0</td>\n",
       "      <td>Y</td>\n",
       "    </tr>\n",
       "    <tr>\n",
       "      <th>96</th>\n",
       "      <td>4139060865</td>\n",
       "      <td>NaN</td>\n",
       "      <td>263.412790</td>\n",
       "      <td>9746.273241</td>\n",
       "      <td>N</td>\n",
       "      <td>0</td>\n",
       "      <td>Y</td>\n",
       "      <td>N</td>\n",
       "      <td>739</td>\n",
       "      <td>182.0</td>\n",
       "      <td>8</td>\n",
       "      <td>Y</td>\n",
       "    </tr>\n",
       "    <tr>\n",
       "      <th>97</th>\n",
       "      <td>4139280493</td>\n",
       "      <td>NaN</td>\n",
       "      <td>921.063930</td>\n",
       "      <td>46974.260420</td>\n",
       "      <td>N</td>\n",
       "      <td>8</td>\n",
       "      <td>Y</td>\n",
       "      <td>Y</td>\n",
       "      <td>0</td>\n",
       "      <td>0.0</td>\n",
       "      <td>0</td>\n",
       "      <td>Y</td>\n",
       "    </tr>\n",
       "    <tr>\n",
       "      <th>98</th>\n",
       "      <td>4151187710</td>\n",
       "      <td>NaN</td>\n",
       "      <td>733.491177</td>\n",
       "      <td>35941.067690</td>\n",
       "      <td>N</td>\n",
       "      <td>0</td>\n",
       "      <td>Y</td>\n",
       "      <td>Y</td>\n",
       "      <td>0</td>\n",
       "      <td>0.0</td>\n",
       "      <td>0</td>\n",
       "      <td>Y</td>\n",
       "    </tr>\n",
       "    <tr>\n",
       "      <th>99</th>\n",
       "      <td>4154299431</td>\n",
       "      <td>NaN</td>\n",
       "      <td>510.418571</td>\n",
       "      <td>22968.835690</td>\n",
       "      <td>N</td>\n",
       "      <td>0</td>\n",
       "      <td>Y</td>\n",
       "      <td>Y</td>\n",
       "      <td>0</td>\n",
       "      <td>0.0</td>\n",
       "      <td>0</td>\n",
       "      <td>Y</td>\n",
       "    </tr>\n",
       "  </tbody>\n",
       "</table>\n",
       "<p>100 rows × 12 columns</p>\n",
       "</div>"
      ],
      "text/plain": [
       "    Merchant_id  Transaction date  Average Amount/transaction/day  \\\n",
       "0    3160040998               NaN                      100.000000   \n",
       "1    3160040998               NaN                      100.000000   \n",
       "2    3160041896               NaN                      185.500000   \n",
       "3    3160141996               NaN                      185.500000   \n",
       "4    3160241992               NaN                      500.000000   \n",
       "..          ...               ...                             ...   \n",
       "95   4138506573               NaN                      787.737961   \n",
       "96   4139060865               NaN                      263.412790   \n",
       "97   4139280493               NaN                      921.063930   \n",
       "98   4151187710               NaN                      733.491177   \n",
       "99   4154299431               NaN                      510.418571   \n",
       "\n",
       "    Transaction_amount Is declined  Total Number of declines/day  \\\n",
       "0          3000.000000           N                             5   \n",
       "1          4300.000000           N                             5   \n",
       "2          4823.000000           Y                             5   \n",
       "3          5008.500000           Y                             8   \n",
       "4         26000.000000           N                             0   \n",
       "..                 ...         ...                           ...   \n",
       "95        32297.256390           N                             3   \n",
       "96         9746.273241           N                             0   \n",
       "97        46974.260420           N                             8   \n",
       "98        35941.067690           N                             0   \n",
       "99        22968.835690           N                             0   \n",
       "\n",
       "   isForeignTransaction isHighRiskCountry  Daily_chargeback_avg_amt  \\\n",
       "0                     Y                 Y                         0   \n",
       "1                     Y                 Y                         0   \n",
       "2                     N                 N                         0   \n",
       "3                     N                 N                         0   \n",
       "4                     Y                 Y                       800   \n",
       "..                  ...               ...                       ...   \n",
       "95                    Y                 Y                         0   \n",
       "96                    Y                 N                       739   \n",
       "97                    Y                 Y                         0   \n",
       "98                    Y                 Y                         0   \n",
       "99                    Y                 Y                         0   \n",
       "\n",
       "    6_month_avg_chbk_amt  6-month_chbk_freq isFradulent  \n",
       "0                    0.0                  0           Y  \n",
       "1                    0.0                  0           Y  \n",
       "2                    0.0                  0           Y  \n",
       "3                    0.0                  0           Y  \n",
       "4                  677.2                  6           Y  \n",
       "..                   ...                ...         ...  \n",
       "95                   0.0                  0           Y  \n",
       "96                 182.0                  8           Y  \n",
       "97                   0.0                  0           Y  \n",
       "98                   0.0                  0           Y  \n",
       "99                   0.0                  0           Y  \n",
       "\n",
       "[100 rows x 12 columns]"
      ]
     },
     "execution_count": 74,
     "metadata": {},
     "output_type": "execute_result"
    }
   ],
   "source": [
    "data = pd.read_csv(\"creditcardcsvpresent.csv\")   #sample dataset from Kaggle\n",
    "data.head(100)"
   ]
  },
  {
   "cell_type": "code",
   "execution_count": 75,
   "id": "257592b7",
   "metadata": {
    "id": "257592b7"
   },
   "outputs": [],
   "source": [
    "pd.options.display.max_columns = None"
   ]
  },
  {
   "cell_type": "code",
   "execution_count": 76,
   "id": "b2719ecc",
   "metadata": {
    "id": "b2719ecc"
   },
   "outputs": [],
   "source": [
    "data=data.drop(columns=['Merchant_id', 'Transaction date'])"
   ]
  },
  {
   "cell_type": "code",
   "execution_count": 77,
   "id": "6395624a",
   "metadata": {
    "id": "6395624a",
    "outputId": "838c1dc1-9957-43d8-fdcb-d9040a475f0a"
   },
   "outputs": [
    {
     "data": {
      "text/plain": [
       "Average Amount/transaction/day    0\n",
       "Transaction_amount                0\n",
       "Is declined                       0\n",
       "Total Number of declines/day      0\n",
       "isForeignTransaction              0\n",
       "isHighRiskCountry                 0\n",
       "Daily_chargeback_avg_amt          0\n",
       "6_month_avg_chbk_amt              0\n",
       "6-month_chbk_freq                 0\n",
       "isFradulent                       0\n",
       "dtype: int64"
      ]
     },
     "execution_count": 77,
     "metadata": {},
     "output_type": "execute_result"
    }
   ],
   "source": [
    "data.isnull().sum()"
   ]
  },
  {
   "cell_type": "code",
   "execution_count": 78,
   "id": "37628379",
   "metadata": {
    "id": "37628379",
    "outputId": "d5c84ebf-920b-432a-8a88-4e4358db0955"
   },
   "outputs": [
    {
     "data": {
      "text/plain": [
       "True"
      ]
     },
     "execution_count": 78,
     "metadata": {},
     "output_type": "execute_result"
    }
   ],
   "source": [
    "data.duplicated().any()"
   ]
  },
  {
   "cell_type": "code",
   "execution_count": 79,
   "id": "86f2db93",
   "metadata": {
    "id": "86f2db93"
   },
   "outputs": [],
   "source": [
    "data = data.drop_duplicates()"
   ]
  },
  {
   "cell_type": "code",
   "execution_count": 80,
   "id": "4b4da984",
   "metadata": {
    "id": "4b4da984"
   },
   "outputs": [],
   "source": [
    "data = data.replace(['N'], 0)\n",
    "data= data.replace(['Y'], 1)"
   ]
  },
  {
   "cell_type": "code",
   "execution_count": 81,
   "id": "e226c758",
   "metadata": {
    "id": "e226c758"
   },
   "outputs": [],
   "source": [
    "X = data.drop('isFradulent',axis=1)\n",
    "y = data['isFradulent']"
   ]
  },
  {
   "cell_type": "code",
   "execution_count": 82,
   "id": "a673dae8",
   "metadata": {
    "id": "a673dae8"
   },
   "outputs": [],
   "source": [
    "from sklearn.model_selection import train_test_split\n",
    "X_train,X_test,y_train,y_test = train_test_split(X,y,test_size=0.20,\n",
    "                                                 random_state=42)"
   ]
  },
  {
   "cell_type": "code",
   "execution_count": 83,
   "id": "152582aa",
   "metadata": {
    "id": "152582aa"
   },
   "outputs": [],
   "source": [
    "normal = data[data['isFradulent']==0]\n",
    "fraud = data[data['isFradulent']==1]"
   ]
  },
  {
   "cell_type": "code",
   "execution_count": 84,
   "id": "00628c72",
   "metadata": {
    "id": "00628c72",
    "outputId": "7aa3156e-efed-449a-e168-64e98f624002"
   },
   "outputs": [
    {
     "data": {
      "text/plain": [
       "(448, 10)"
      ]
     },
     "execution_count": 84,
     "metadata": {},
     "output_type": "execute_result"
    }
   ],
   "source": [
    "fraud.shape"
   ]
  },
  {
   "cell_type": "code",
   "execution_count": 85,
   "id": "fc1ec04d",
   "metadata": {
    "id": "fc1ec04d",
    "outputId": "6aafb765-da0d-4541-8bc2-0fb15bfef2f0"
   },
   "outputs": [
    {
     "data": {
      "text/plain": [
       "(448, 10)"
      ]
     },
     "execution_count": 85,
     "metadata": {},
     "output_type": "execute_result"
    }
   ],
   "source": [
    "normal_sample=normal.sample(n=448)\n",
    "normal_sample.shape"
   ]
  },
  {
   "cell_type": "code",
   "execution_count": 86,
   "id": "f3079153",
   "metadata": {
    "id": "f3079153"
   },
   "outputs": [],
   "source": [
    "new_data = pd.concat([normal_sample,fraud],ignore_index=True)"
   ]
  },
  {
   "cell_type": "code",
   "execution_count": 87,
   "id": "270cdb48",
   "metadata": {
    "id": "270cdb48"
   },
   "outputs": [],
   "source": [
    "X = new_data.drop('isFradulent',axis=1)\n",
    "y = new_data['isFradulent']"
   ]
  },
  {
   "cell_type": "code",
   "execution_count": 88,
   "id": "0e43a926",
   "metadata": {
    "colab": {
     "base_uri": "https://localhost:8080/"
    },
    "id": "0e43a926",
    "outputId": "f8639215-4980-421f-a73a-9ade3bf223e1"
   },
   "outputs": [
    {
     "name": "stdout",
     "output_type": "stream",
     "text": [
      "Requirement already satisfied: diffprivlib in ./opt/anaconda3/lib/python3.9/site-packages (0.5.2)\n",
      "Requirement already satisfied: scipy>=1.5.0 in ./opt/anaconda3/lib/python3.9/site-packages (from diffprivlib) (1.7.1)\n",
      "Requirement already satisfied: scikit-learn>=0.23.0 in ./opt/anaconda3/lib/python3.9/site-packages (from diffprivlib) (0.24.2)\n",
      "Requirement already satisfied: numpy>=1.19.0 in ./opt/anaconda3/lib/python3.9/site-packages (from diffprivlib) (1.20.3)\n",
      "Requirement already satisfied: crlibm>=1.0.3 in ./opt/anaconda3/lib/python3.9/site-packages (from diffprivlib) (1.0.3)\n",
      "Requirement already satisfied: joblib>=0.16.0 in ./opt/anaconda3/lib/python3.9/site-packages (from diffprivlib) (1.1.0)\n",
      "Requirement already satisfied: setuptools>=49.0.0 in ./opt/anaconda3/lib/python3.9/site-packages (from diffprivlib) (58.0.4)\n",
      "Requirement already satisfied: threadpoolctl>=2.0.0 in ./opt/anaconda3/lib/python3.9/site-packages (from scikit-learn>=0.23.0->diffprivlib) (2.2.0)\n"
     ]
    }
   ],
   "source": [
    "!pip install diffprivlib"
   ]
  },
  {
   "cell_type": "code",
   "execution_count": 89,
   "id": "85116272",
   "metadata": {
    "colab": {
     "base_uri": "https://localhost:8080/",
     "height": 461
    },
    "id": "85116272",
    "outputId": "1c9822f3-a055-4f91-9845-125f25f1ed8f"
   },
   "outputs": [
    {
     "data": {
      "text/html": [
       "<div>\n",
       "<style scoped>\n",
       "    .dataframe tbody tr th:only-of-type {\n",
       "        vertical-align: middle;\n",
       "    }\n",
       "\n",
       "    .dataframe tbody tr th {\n",
       "        vertical-align: top;\n",
       "    }\n",
       "\n",
       "    .dataframe thead th {\n",
       "        text-align: right;\n",
       "    }\n",
       "</style>\n",
       "<table border=\"1\" class=\"dataframe\">\n",
       "  <thead>\n",
       "    <tr style=\"text-align: right;\">\n",
       "      <th></th>\n",
       "      <th>Average Amount/transaction/day</th>\n",
       "      <th>Transaction_amount</th>\n",
       "      <th>Is declined</th>\n",
       "      <th>Total Number of declines/day</th>\n",
       "      <th>isForeignTransaction</th>\n",
       "      <th>isHighRiskCountry</th>\n",
       "      <th>Daily_chargeback_avg_amt</th>\n",
       "      <th>6_month_avg_chbk_amt</th>\n",
       "      <th>6-month_chbk_freq</th>\n",
       "      <th>isFradulent</th>\n",
       "    </tr>\n",
       "  </thead>\n",
       "  <tbody>\n",
       "    <tr>\n",
       "      <th>0</th>\n",
       "      <td>100.0</td>\n",
       "      <td>7773.636132</td>\n",
       "      <td>0</td>\n",
       "      <td>5</td>\n",
       "      <td>1</td>\n",
       "      <td>1</td>\n",
       "      <td>0</td>\n",
       "      <td>0.0</td>\n",
       "      <td>0</td>\n",
       "      <td>1</td>\n",
       "    </tr>\n",
       "    <tr>\n",
       "      <th>1</th>\n",
       "      <td>100.0</td>\n",
       "      <td>33170.202850</td>\n",
       "      <td>0</td>\n",
       "      <td>5</td>\n",
       "      <td>1</td>\n",
       "      <td>1</td>\n",
       "      <td>0</td>\n",
       "      <td>0.0</td>\n",
       "      <td>0</td>\n",
       "      <td>1</td>\n",
       "    </tr>\n",
       "    <tr>\n",
       "      <th>2</th>\n",
       "      <td>185.5</td>\n",
       "      <td>39554.877530</td>\n",
       "      <td>1</td>\n",
       "      <td>5</td>\n",
       "      <td>0</td>\n",
       "      <td>0</td>\n",
       "      <td>0</td>\n",
       "      <td>0.0</td>\n",
       "      <td>0</td>\n",
       "      <td>1</td>\n",
       "    </tr>\n",
       "    <tr>\n",
       "      <th>3</th>\n",
       "      <td>185.5</td>\n",
       "      <td>956.809864</td>\n",
       "      <td>1</td>\n",
       "      <td>8</td>\n",
       "      <td>0</td>\n",
       "      <td>0</td>\n",
       "      <td>0</td>\n",
       "      <td>0.0</td>\n",
       "      <td>0</td>\n",
       "      <td>1</td>\n",
       "    </tr>\n",
       "    <tr>\n",
       "      <th>4</th>\n",
       "      <td>500.0</td>\n",
       "      <td>6421.016503</td>\n",
       "      <td>0</td>\n",
       "      <td>0</td>\n",
       "      <td>1</td>\n",
       "      <td>1</td>\n",
       "      <td>800</td>\n",
       "      <td>677.2</td>\n",
       "      <td>6</td>\n",
       "      <td>1</td>\n",
       "    </tr>\n",
       "    <tr>\n",
       "      <th>5</th>\n",
       "      <td>500.0</td>\n",
       "      <td>13219.015420</td>\n",
       "      <td>0</td>\n",
       "      <td>0</td>\n",
       "      <td>1</td>\n",
       "      <td>1</td>\n",
       "      <td>800</td>\n",
       "      <td>677.2</td>\n",
       "      <td>6</td>\n",
       "      <td>1</td>\n",
       "    </tr>\n",
       "    <tr>\n",
       "      <th>6</th>\n",
       "      <td>262.5</td>\n",
       "      <td>22817.081520</td>\n",
       "      <td>0</td>\n",
       "      <td>0</td>\n",
       "      <td>0</td>\n",
       "      <td>0</td>\n",
       "      <td>900</td>\n",
       "      <td>345.5</td>\n",
       "      <td>7</td>\n",
       "      <td>1</td>\n",
       "    </tr>\n",
       "    <tr>\n",
       "      <th>7</th>\n",
       "      <td>185.5</td>\n",
       "      <td>1945.788791</td>\n",
       "      <td>1</td>\n",
       "      <td>20</td>\n",
       "      <td>0</td>\n",
       "      <td>0</td>\n",
       "      <td>0</td>\n",
       "      <td>0.0</td>\n",
       "      <td>0</td>\n",
       "      <td>1</td>\n",
       "    </tr>\n",
       "    <tr>\n",
       "      <th>8</th>\n",
       "      <td>185.5</td>\n",
       "      <td>20634.845980</td>\n",
       "      <td>1</td>\n",
       "      <td>20</td>\n",
       "      <td>0</td>\n",
       "      <td>0</td>\n",
       "      <td>0</td>\n",
       "      <td>0.0</td>\n",
       "      <td>0</td>\n",
       "      <td>1</td>\n",
       "    </tr>\n",
       "    <tr>\n",
       "      <th>9</th>\n",
       "      <td>185.5</td>\n",
       "      <td>26500.000000</td>\n",
       "      <td>1</td>\n",
       "      <td>20</td>\n",
       "      <td>0</td>\n",
       "      <td>0</td>\n",
       "      <td>0</td>\n",
       "      <td>0.0</td>\n",
       "      <td>0</td>\n",
       "      <td>1</td>\n",
       "    </tr>\n",
       "  </tbody>\n",
       "</table>\n",
       "</div>"
      ],
      "text/plain": [
       "   Average Amount/transaction/day  Transaction_amount  Is declined  \\\n",
       "0                           100.0         7773.636132            0   \n",
       "1                           100.0        33170.202850            0   \n",
       "2                           185.5        39554.877530            1   \n",
       "3                           185.5          956.809864            1   \n",
       "4                           500.0         6421.016503            0   \n",
       "5                           500.0        13219.015420            0   \n",
       "6                           262.5        22817.081520            0   \n",
       "7                           185.5         1945.788791            1   \n",
       "8                           185.5        20634.845980            1   \n",
       "9                           185.5        26500.000000            1   \n",
       "\n",
       "   Total Number of declines/day  isForeignTransaction  isHighRiskCountry  \\\n",
       "0                             5                     1                  1   \n",
       "1                             5                     1                  1   \n",
       "2                             5                     0                  0   \n",
       "3                             8                     0                  0   \n",
       "4                             0                     1                  1   \n",
       "5                             0                     1                  1   \n",
       "6                             0                     0                  0   \n",
       "7                            20                     0                  0   \n",
       "8                            20                     0                  0   \n",
       "9                            20                     0                  0   \n",
       "\n",
       "   Daily_chargeback_avg_amt  6_month_avg_chbk_amt  6-month_chbk_freq  \\\n",
       "0                         0                   0.0                  0   \n",
       "1                         0                   0.0                  0   \n",
       "2                         0                   0.0                  0   \n",
       "3                         0                   0.0                  0   \n",
       "4                       800                 677.2                  6   \n",
       "5                       800                 677.2                  6   \n",
       "6                       900                 345.5                  7   \n",
       "7                         0                   0.0                  0   \n",
       "8                         0                   0.0                  0   \n",
       "9                         0                   0.0                  0   \n",
       "\n",
       "   isFradulent  \n",
       "0            1  \n",
       "1            1  \n",
       "2            1  \n",
       "3            1  \n",
       "4            1  \n",
       "5            1  \n",
       "6            1  \n",
       "7            1  \n",
       "8            1  \n",
       "9            1  "
      ]
     },
     "execution_count": 89,
     "metadata": {},
     "output_type": "execute_result"
    }
   ],
   "source": [
    "import random\n",
    "from diffprivlib.mechanisms import Exponential\n",
    "\n",
    "exp_dataset = data.copy()\n",
    "sensitivity = 3\n",
    "epsilon = 0.3\n",
    "utility = [random.randint(0,1) for x in range(len(exp_dataset['Transaction_amount']))]\n",
    "candidates = exp_dataset['Transaction_amount'].values.tolist()\n",
    "\n",
    "mechanism = Exponential(\n",
    "    sensitivity=sensitivity,\n",
    "    epsilon=epsilon,\n",
    "    utility=utility,\n",
    "    candidates=candidates\n",
    ")\n",
    "\n",
    "exp_dataset['Transaction_amount'] = [mechanism.randomise() for _ in range(len(exp_dataset['Transaction_amount']))]\n",
    "exp_dataset.head(10)                #Dataset formed through Exponential module"
   ]
  },
  {
   "cell_type": "code",
   "execution_count": 90,
   "id": "b6f0ad62",
   "metadata": {
    "id": "b6f0ad62"
   },
   "outputs": [],
   "source": [
    "df_graph=pd.concat([data['Transaction_amount'], exp_dataset['Transaction_amount']],axis=1, keys=['Original_df','expo_dataset'])   #Comparing age col from both datasets\n",
    "df_graph.head(10)\n",
    "df1=df_graph.head(50)"
   ]
  },
  {
   "cell_type": "code",
   "execution_count": 91,
   "id": "2cf7c5d3",
   "metadata": {
    "id": "2cf7c5d3",
    "outputId": "5f332b8c-c245-4ac4-f861-86c3c283171d"
   },
   "outputs": [
    {
     "data": {
      "text/plain": [
       "<AxesSubplot:>"
      ]
     },
     "execution_count": 91,
     "metadata": {},
     "output_type": "execute_result"
    },
    {
     "data": {
      "image/png": "[encoded data removed]",
      "text/plain": [
       "<Figure size 432x288 with 1 Axes>"
      ]
     },
     "metadata": {
      "needs_background": "light"
     },
     "output_type": "display_data"
    }
   ],
   "source": [
    "df1.plot.line()  #Comparing original amt to new amt"
   ]
  },
  {
   "cell_type": "code",
   "execution_count": 92,
   "id": "77e3a27f",
   "metadata": {
    "id": "77e3a27f"
   },
   "outputs": [],
   "source": [
    "import numpy as np"
   ]
  },
  {
   "cell_type": "code",
   "execution_count": 93,
   "id": "f1816916",
   "metadata": {
    "id": "f1816916"
   },
   "outputs": [],
   "source": [
    "# Read training and test data\n",
    "import os\n",
    "processed_data_dir = 'data'\n",
    "X_train_path = os.path.join(processed_data_dir, 'X_train.csv')\n",
    "y_train_path = os.path.join(processed_data_dir, 'y_train.csv')\n",
    "X_test_path = os.path.join(processed_data_dir, 'X_test.csv')\n",
    "y_test_path = os.path.join(processed_data_dir, 'y_test.csv')\n",
    "\n",
    "#Imporing files for ml training\n",
    "X_train = pd.read_csv(\"X_train.csv\")\n",
    "y_train = pd.read_csv(\"y_train.csv\")\n",
    "X_test = pd.read_csv(\"X_test.csv\")\n",
    "y_test = pd.read_csv(\"y_test.csv\")"
   ]
  },
  {
   "cell_type": "code",
   "execution_count": 94,
   "id": "ac2d03fc",
   "metadata": {
    "id": "ac2d03fc"
   },
   "outputs": [],
   "source": [
    "# Create a results dataframe to store and later compare results\n",
    "results = pd.DataFrame()\n",
    "results['Metrics'] = ['True Negatives', 'False Negatives', 'False Positives', 'True Positives', 'Accuracy', 'Precision', 'Recall', 'F1-Score', 'Support']\n",
    "\n",
    "def get_metrics(labels, pred_labels):\n",
    "    conf_matrix = np.asarray(confusion_matrix(labels, pred_labels))\n",
    "    metrics = np.concatenate(([accuracy_score(labels, pred_labels)], precision_recall_fscore_support(labels, pred_labels, average='binary')))\n",
    "    return np.concatenate((conf_matrix.reshape(-1),metrics))\n",
    "\n",
    "def fit_model(input_data, model_fn, model_args=None, threshold=None, labels=None):\n",
    "    return model_fn(input_data, model_args, threshold, labels)\n",
    "\n",
    "def predict_model(input_data, model, predict_fn, threshold=None):\n",
    "    return predict_fn(input_data, model, threshold)"
   ]
  },
  {
   "cell_type": "code",
   "execution_count": 95,
   "id": "d60b32db",
   "metadata": {
    "id": "d60b32db"
   },
   "outputs": [],
   "source": [
    "from sklearn.ensemble import IsolationForest"
   ]
  },
  {
   "cell_type": "code",
   "execution_count": null,
   "id": "bab9b1df",
   "metadata": {
    "id": "bab9b1df"
   },
   "outputs": [],
   "source": [
    "\n"
   ]
  },
  {
   "cell_type": "code",
   "execution_count": 96,
   "id": "4a79d261",
   "metadata": {
    "id": "4a79d261"
   },
   "outputs": [],
   "source": [
    "def fit_isolation_forest(input_data, args=None, threshold=None, labels=None):\n",
    "    if threshold == None:\n",
    "        model = IsolationForest()\n",
    "    else:\n",
    "        model = IsolationForest(contamination=threshold)\n",
    "    \n",
    "    model.fit(input_data)\n",
    "\n",
    "    return model\n",
    "\n",
    "def predict_isolation_forest(input_data, model, threshold=None):\n",
    "    y_pred = model.predict(input_data)\n",
    "    y_pred = [1 if pred == -1 else 0 for pred in y_pred]\n",
    "\n",
    "    return y_pred"
   ]
  },
  {
   "cell_type": "code",
   "execution_count": 97,
   "id": "eb9c8ec8",
   "metadata": {
    "id": "eb9c8ec8"
   },
   "outputs": [],
   "source": [
    "from sklearn.metrics import classification_report, confusion_matrix, accuracy_score, precision_recall_fscore_support, mean_squared_error, recall_score"
   ]
  },
  {
   "cell_type": "code",
   "execution_count": 98,
   "id": "62c023f1",
   "metadata": {
    "id": "62c023f1",
    "outputId": "6195b032-d339-437b-b069-32467c0134b6"
   },
   "outputs": [
    {
     "name": "stdout",
     "output_type": "stream",
     "text": [
      "CONFUSION MATRIX:\n",
      " [[495  30]\n",
      " [  6  84]]\n",
      "Classification Report:\n",
      "               precision    recall  f1-score   support\n",
      "\n",
      "           0       0.99      0.94      0.96       525\n",
      "           1       0.74      0.93      0.82        90\n",
      "\n",
      "    accuracy                           0.94       615\n",
      "   macro avg       0.86      0.94      0.89       615\n",
      "weighted avg       0.95      0.94      0.94       615\n",
      "\n"
     ]
    }
   ],
   "source": [
    "if_model = fit_model(X_train, fit_isolation_forest, None)\n",
    "\n",
    "y_pred_test = predict_model(X_test, if_model, predict_isolation_forest)\n",
    "print('CONFUSION MATRIX:\\n', confusion_matrix(y_test,y_pred_test))\n",
    "print(\"Classification Report:\\n\", classification_report(y_test, y_pred_test))"
   ]
  },
  {
   "cell_type": "code",
   "execution_count": 99,
   "id": "5f77a9a2",
   "metadata": {
    "id": "5f77a9a2"
   },
   "outputs": [],
   "source": [
    "import joblib\n",
    "rf1=IsolationForest"
   ]
  },
  {
   "cell_type": "code",
   "execution_count": 100,
   "id": "043aa0ac",
   "metadata": {
    "id": "043aa0ac",
    "outputId": "b3840553-b233-4837-824c-5912d7c08cf9"
   },
   "outputs": [
    {
     "data": {
      "text/plain": [
       "['credit_card_model']"
      ]
     },
     "execution_count": 100,
     "metadata": {},
     "output_type": "execute_result"
    }
   ],
   "source": [
    "joblib.dump(rf1,\"credit_card_model\")"
   ]
  },
  {
   "cell_type": "code",
   "execution_count": 101,
   "id": "19a1f522",
   "metadata": {
    "id": "19a1f522"
   },
   "outputs": [],
   "source": [
    "model = joblib.load(\"credit_card_model\")"
   ]
  },
  {
   "cell_type": "code",
   "execution_count": 102,
   "id": "03d05793",
   "metadata": {
    "id": "03d05793",
    "outputId": "561dbeff-ef31-41d8-c512-43fd2e616da7"
   },
   "outputs": [
    {
     "data": {
      "text/plain": [
       "IsolationForest()"
      ]
     },
     "execution_count": 102,
     "metadata": {},
     "output_type": "execute_result"
    }
   ],
   "source": [
    "regressor = IsolationForest()  # <-- you need to instantiate the regressor like so \n",
    "regressor.fit(X_train, y_train)"
   ]
  },
  {
   "cell_type": "code",
   "execution_count": 103,
   "id": "57455c9b",
   "metadata": {
    "id": "57455c9b"
   },
   "outputs": [],
   "source": [
    "pred = regressor.predict([[1,1,1,1,1,1,1,1,1]])"
   ]
  },
  {
   "cell_type": "code",
   "execution_count": 104,
   "id": "510267f4",
   "metadata": {
    "id": "510267f4",
    "outputId": "97655146-9a0b-4a8e-a61d-6f77b350e4ba"
   },
   "outputs": [
    {
     "name": "stdout",
     "output_type": "stream",
     "text": [
      "Fraudulent Transcation\n",
      "[-1]\n"
     ]
    }
   ],
   "source": [
    "if pred == 1:\n",
    "    print(\"Normal Transcation\")\n",
    "elif pred==-1:\n",
    "    print(\"Fraudulent Transcation\")\n",
    "print(pred)"
   ]
  },
  {
   "cell_type": "code",
   "execution_count": 105,
   "id": "71fd390d",
   "metadata": {
    "id": "71fd390d"
   },
   "outputs": [],
   "source": [
    "data= data.rename(columns={\"Transaction date\": \"Transdate\", \"Average Amount/transaction/day\": \"AvgAmt\", \"Is declined\": \"Isdeclined\", \"Total Number of declines/day\": \"NoOfDeclines\",\"6_month_avg_chbk_amt\": \"month_avg_chbk_amt\",\"6-month_chbk_freq\":\"month_chbk_freq \"})"
   ]
  },
  {
   "cell_type": "code",
   "execution_count": 106,
   "id": "00fe9a87",
   "metadata": {
    "id": "00fe9a87",
    "outputId": "8e065485-474b-4756-93c5-fa6228610dba"
   },
   "outputs": [
    {
     "name": "stdout",
     "output_type": "stream",
     "text": [
      "<class 'pandas.core.frame.DataFrame'>\n",
      "Int64Index: 3074 entries, 0 to 3074\n",
      "Data columns (total 10 columns):\n",
      " #   Column                    Non-Null Count  Dtype  \n",
      "---  ------                    --------------  -----  \n",
      " 0   AvgAmt                    3074 non-null   float64\n",
      " 1   Transaction_amount        3074 non-null   float64\n",
      " 2   Isdeclined                3074 non-null   int64  \n",
      " 3   NoOfDeclines              3074 non-null   int64  \n",
      " 4   isForeignTransaction      3074 non-null   int64  \n",
      " 5   isHighRiskCountry         3074 non-null   int64  \n",
      " 6   Daily_chargeback_avg_amt  3074 non-null   int64  \n",
      " 7   month_avg_chbk_amt        3074 non-null   float64\n",
      " 8   month_chbk_freq           3074 non-null   int64  \n",
      " 9   isFradulent               3074 non-null   int64  \n",
      "dtypes: float64(3), int64(7)\n",
      "memory usage: 264.2 KB\n"
     ]
    }
   ],
   "source": [
    "data.info()"
   ]
  },
  {
   "cell_type": "code",
   "execution_count": 107,
   "id": "d7c11c7d",
   "metadata": {
    "id": "d7c11c7d",
    "outputId": "24f7ce05-53c7-4622-c5bf-376d9894c707"
   },
   "outputs": [
    {
     "data": {
      "text/html": [
       "<div>\n",
       "<style scoped>\n",
       "    .dataframe tbody tr th:only-of-type {\n",
       "        vertical-align: middle;\n",
       "    }\n",
       "\n",
       "    .dataframe tbody tr th {\n",
       "        vertical-align: top;\n",
       "    }\n",
       "\n",
       "    .dataframe thead th {\n",
       "        text-align: right;\n",
       "    }\n",
       "</style>\n",
       "<table border=\"1\" class=\"dataframe\">\n",
       "  <thead>\n",
       "    <tr style=\"text-align: right;\">\n",
       "      <th></th>\n",
       "      <th>AvgAmt</th>\n",
       "      <th>Transaction_amount</th>\n",
       "      <th>Isdeclined</th>\n",
       "      <th>NoOfDeclines</th>\n",
       "      <th>isForeignTransaction</th>\n",
       "      <th>isHighRiskCountry</th>\n",
       "      <th>Daily_chargeback_avg_amt</th>\n",
       "      <th>month_avg_chbk_amt</th>\n",
       "      <th>month_chbk_freq</th>\n",
       "      <th>isFradulent</th>\n",
       "    </tr>\n",
       "  </thead>\n",
       "  <tbody>\n",
       "    <tr>\n",
       "      <th>0</th>\n",
       "      <td>100.0</td>\n",
       "      <td>3000.0</td>\n",
       "      <td>0</td>\n",
       "      <td>5</td>\n",
       "      <td>1</td>\n",
       "      <td>1</td>\n",
       "      <td>0</td>\n",
       "      <td>0.0</td>\n",
       "      <td>0</td>\n",
       "      <td>1</td>\n",
       "    </tr>\n",
       "    <tr>\n",
       "      <th>1</th>\n",
       "      <td>100.0</td>\n",
       "      <td>4300.0</td>\n",
       "      <td>0</td>\n",
       "      <td>5</td>\n",
       "      <td>1</td>\n",
       "      <td>1</td>\n",
       "      <td>0</td>\n",
       "      <td>0.0</td>\n",
       "      <td>0</td>\n",
       "      <td>1</td>\n",
       "    </tr>\n",
       "    <tr>\n",
       "      <th>2</th>\n",
       "      <td>185.5</td>\n",
       "      <td>4823.0</td>\n",
       "      <td>1</td>\n",
       "      <td>5</td>\n",
       "      <td>0</td>\n",
       "      <td>0</td>\n",
       "      <td>0</td>\n",
       "      <td>0.0</td>\n",
       "      <td>0</td>\n",
       "      <td>1</td>\n",
       "    </tr>\n",
       "    <tr>\n",
       "      <th>3</th>\n",
       "      <td>185.5</td>\n",
       "      <td>5008.5</td>\n",
       "      <td>1</td>\n",
       "      <td>8</td>\n",
       "      <td>0</td>\n",
       "      <td>0</td>\n",
       "      <td>0</td>\n",
       "      <td>0.0</td>\n",
       "      <td>0</td>\n",
       "      <td>1</td>\n",
       "    </tr>\n",
       "  </tbody>\n",
       "</table>\n",
       "</div>"
      ],
      "text/plain": [
       "   AvgAmt  Transaction_amount  Isdeclined  NoOfDeclines  isForeignTransaction  \\\n",
       "0   100.0              3000.0           0             5                     1   \n",
       "1   100.0              4300.0           0             5                     1   \n",
       "2   185.5              4823.0           1             5                     0   \n",
       "3   185.5              5008.5           1             8                     0   \n",
       "\n",
       "   isHighRiskCountry  Daily_chargeback_avg_amt  month_avg_chbk_amt  \\\n",
       "0                  1                         0                 0.0   \n",
       "1                  1                         0                 0.0   \n",
       "2                  0                         0                 0.0   \n",
       "3                  0                         0                 0.0   \n",
       "\n",
       "   month_chbk_freq   isFradulent  \n",
       "0                 0            1  \n",
       "1                 0            1  \n",
       "2                 0            1  \n",
       "3                 0            1  "
      ]
     },
     "execution_count": 107,
     "metadata": {},
     "output_type": "execute_result"
    }
   ],
   "source": [
    "data.head(4)"
   ]
  },
  {
   "cell_type": "code",
   "execution_count": null,
   "id": "ea2e0c56",
   "metadata": {
    "id": "ea2e0c56",
    "outputId": "00cf5c9a-bf98-42c7-e471-9511023c86c6"
   },
   "outputs": [
    {
     "name": "stdout",
     "output_type": "stream",
     "text": [
      "######################################\n",
      "Credit Card Fraud Detection System ['Normal Transcation']\n",
      "######################################\n"
     ]
    }
   ],
   "source": [
    "from tkinter import *\n",
    "import joblib\n",
    "\n",
    "def show_entry_fields():\n",
    "    \n",
    "    \n",
    "    AvgAmt= float(e3.get())\n",
    "    Transaction_amount=float(e4.get())\n",
    "    Isdeclined =int(e5.get())\n",
    "    NoOfDeclines=int(e6.get())\n",
    "\n",
    "    isForeignTransaction =int(e7.get())\n",
    "    isHighRiskCountry=int(e8.get())\n",
    "    Daily_chargeback_avg_amt=int(e9.get())\n",
    "    month_avg_chbk_amt=float(e10.get())\n",
    "    month_chbk_freq=int(e11.get())\n",
    "    #isFradulent =object(e12.get())\n",
    "\n",
    "\n",
    "\n",
    "\n",
    "    model = joblib.load('credit_card_model')\n",
    "    y_pred = regressor.predict([[AvgAmt,Transaction_amount,Isdeclined,NoOfDeclines,isForeignTransaction,isHighRiskCountry,Daily_chargeback_avg_amt,month_avg_chbk_amt,month_chbk_freq]])\n",
    "                                \n",
    "    list1=[AvgAmt,Transaction_amount,Isdeclined,NoOfDeclines,isForeignTransaction,isHighRiskCountry,Daily_chargeback_avg_amt,month_avg_chbk_amt,month_chbk_freq]\n",
    "\n",
    "    result = []\n",
    "    if y_pred ==1:\n",
    "\n",
    "        result.append(\"Normal Transcation\")\n",
    "    else:\n",
    "\n",
    "        result.append(\"Fraudulent Transcation\")\n",
    "    print(\"######################################\")\n",
    "    print(\"Credit Card Fraud Detection System\", result)\n",
    "    print(\"######################################\")\n",
    "\n",
    "\n",
    "\n",
    "    Label(master, text=\"Final Prediction from the model - credit card fraud detection\").grid(row=31)\n",
    "    Label(master, text=result).grid(row=32)\n",
    "\n",
    "\n",
    "\n",
    "master = Tk()\n",
    "master.title(\"Credit Card Fraud Detection System\")\n",
    "\n",
    "\n",
    "label = Label(master, text = \"Credit Card Fraud Detection System\"\n",
    "                          , bg = \"black\", fg = \"white\",width = 30).grid(row=0,columnspan=2)\n",
    "\n",
    "\n",
    "\n",
    "Label(master, text=\"Enter value of AvgAmt\").grid(row=3)\n",
    "Label(master, text=\"Enter value of Transaction_amount\").grid(row=4)\n",
    "Label(master, text=\"Enter value of Isdeclined\").grid(row=5)\n",
    "Label(master, text=\"Enter value of NoOfDeclines\").grid(row=6)\n",
    "\n",
    "Label(master, text=\"Enter value of isForeignTransaction\").grid(row=7)\n",
    "Label(master, text=\"Enter value of isHighRiskCountry\").grid(row=8)\n",
    "Label(master, text=\"Enter value of Daily_chargeback_avg_amt\").grid(row=9)\n",
    "Label(master, text=\"Enter value of month_avg_chbk_amt\").grid(row=10)\n",
    "Label(master, text=\"Enter value of month_chbk_freq\").grid(row=11)\n",
    "\n",
    "\n",
    "\n",
    "e3 = Entry(master)\n",
    "e4 = Entry(master)\n",
    "e5 = Entry(master)\n",
    "e6 = Entry(master)\n",
    "\n",
    "e7 = Entry(master)\n",
    "e8 = Entry(master)\n",
    "e9 = Entry(master)\n",
    "e10 = Entry(master)\n",
    "e11 = Entry(master)\n",
    "\n",
    "\n",
    "\n",
    "e3.grid(row=3, column=1)\n",
    "e4.grid(row=4, column=1)\n",
    "e5.grid(row=5, column=1)\n",
    "e6.grid(row=6, column=1)\n",
    "\n",
    "e7.grid(row=7, column=1)\n",
    "e8.grid(row=8, column=1)\n",
    "e9.grid(row=9, column=1)\n",
    "e10.grid(row=10, column=1)\n",
    "e11.grid(row=11, column=1)\n",
    "\n",
    " \n",
    "Button(master, text='Predict', command=show_entry_fields).grid(row=20, column=1, sticky=W, pady=4)\n",
    "\n",
    "mainloop( )"
   ]
  },
  {
   "cell_type": "code",
   "execution_count": null,
   "id": "741c718c",
   "metadata": {
    "id": "741c718c"
   },
   "outputs": [],
   "source": []
  },
  {
   "cell_type": "code",
   "execution_count": null,
   "id": "64377296",
   "metadata": {
    "id": "64377296"
   },
   "outputs": [],
   "source": []
  }
 ],
 "metadata": {
  "colab": {
   "provenance": []
  },
  "kernelspec": {
   "display_name": "Python 3 (ipykernel)",
   "language": "python",
   "name": "python3"
  },
  "language_info": {
   "codemirror_mode": {
    "name": "ipython",
    "version": 3
   },
   "file_extension": ".py",
   "mimetype": "text/x-python",
   "name": "python",
   "nbconvert_exporter": "python",
   "pygments_lexer": "ipython3",
   "version": "3.9.7"
  }
 },
 "nbformat": 4,
 "nbformat_minor": 5
}
